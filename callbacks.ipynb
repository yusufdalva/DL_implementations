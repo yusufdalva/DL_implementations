{
  "nbformat": 4,
  "nbformat_minor": 0,
  "metadata": {
    "kernelspec": {
      "display_name": "Python 3",
      "language": "python",
      "name": "python3"
    },
    "language_info": {
      "codemirror_mode": {
        "name": "ipython",
        "version": 3
      },
      "file_extension": ".py",
      "mimetype": "text/x-python",
      "name": "python",
      "nbconvert_exporter": "python",
      "pygments_lexer": "ipython3",
      "version": "3.7.6"
    },
    "colab": {
      "name": "callbacks.ipynb",
      "provenance": [],
      "include_colab_link": true
    }
  },
  "cells": [
    {
      "cell_type": "markdown",
      "metadata": {
        "id": "view-in-github",
        "colab_type": "text"
      },
      "source": [
        "<a href=\"https://colab.research.google.com/github/yusufdalva/TensorFlow_Practice/blob/master/callbacks.ipynb\" target=\"_parent\"><img src=\"https://colab.research.google.com/assets/colab-badge.svg\" alt=\"Open In Colab\"/></a>"
      ]
    },
    {
      "cell_type": "markdown",
      "metadata": {
        "id": "Ca18EVXA8xOo",
        "colab_type": "text"
      },
      "source": [
        "### Callbacks example using MNIST dataset with Tensorflow\n",
        "This notebook demonstrates the usage of callbacks in training. A simple CNN is constructed. This code is written by modeling the assignment in https://colab.research.google.com/github/lmoroney/dlaicourse/blob/master/Course%201%20-%20Part%204%20-%20Lesson%202%20-%20Notebook.ipynb#scrollTo=BLMdl9aP8nQ0.\n",
        "\n",
        " The only intention is practice."
      ]
    },
    {
      "cell_type": "markdown",
      "metadata": {
        "id": "hROc7Fwu9YL0",
        "colab_type": "text"
      },
      "source": [
        "### Importing and checking Tensorflow version\n",
        "Import statement for tensorflow and version check."
      ]
    },
    {
      "cell_type": "code",
      "metadata": {
        "id": "74cV4KPZ9pCv",
        "colab_type": "code",
        "colab": {
          "base_uri": "https://localhost:8080/",
          "height": 34
        },
        "outputId": "c41c1d05-d7b8-4b6f-c8d1-0215fa637aa3"
      },
      "source": [
        "import tensorflow as tf\n",
        "print(\"TensorFlow version: \", tf.__version__)"
      ],
      "execution_count": null,
      "outputs": [
        {
          "output_type": "stream",
          "text": [
            "2.3.0\n"
          ],
          "name": "stdout"
        }
      ]
    },
    {
      "cell_type": "markdown",
      "metadata": {
        "id": "m28-8h1_90vW",
        "colab_type": "text"
      },
      "source": [
        "## Importing MNIST dataset\n",
        "This notebook uses MNIST dataset for demonstration purposes. The following part shows the import and preprocessing for the dataset"
      ]
    },
    {
      "cell_type": "code",
      "metadata": {
        "id": "0M1f8aBz9vIW",
        "colab_type": "code",
        "colab": {
          "base_uri": "https://localhost:8080/",
          "height": 153
        },
        "outputId": "7b307cdc-0739-415a-8108-0ac094f3e6c3"
      },
      "source": [
        "mnist_dataset = tf.keras.datasets.fashion_mnist\n",
        "(train_samples, train_labels), (test_samples, test_labels) = mnist_dataset.load_data()"
      ],
      "execution_count": null,
      "outputs": [
        {
          "output_type": "stream",
          "text": [
            "Downloading data from https://storage.googleapis.com/tensorflow/tf-keras-datasets/train-labels-idx1-ubyte.gz\n",
            "32768/29515 [=================================] - 0s 0us/step\n",
            "Downloading data from https://storage.googleapis.com/tensorflow/tf-keras-datasets/train-images-idx3-ubyte.gz\n",
            "26427392/26421880 [==============================] - 0s 0us/step\n",
            "Downloading data from https://storage.googleapis.com/tensorflow/tf-keras-datasets/t10k-labels-idx1-ubyte.gz\n",
            "8192/5148 [===============================================] - 0s 0us/step\n",
            "Downloading data from https://storage.googleapis.com/tensorflow/tf-keras-datasets/t10k-images-idx3-ubyte.gz\n",
            "4423680/4422102 [==============================] - 0s 0us/step\n"
          ],
          "name": "stdout"
        }
      ]
    },
    {
      "cell_type": "markdown",
      "metadata": {
        "id": "hm3hDYUv-b6F",
        "colab_type": "text"
      },
      "source": [
        "Data format of the dataset is shown below:"
      ]
    },
    {
      "cell_type": "code",
      "metadata": {
        "id": "Tz3LWjiJ-XLg",
        "colab_type": "code",
        "colab": {
          "base_uri": "https://localhost:8080/",
          "height": 85
        },
        "outputId": "70081aff-ae31-40c1-ac2b-5e0ca05344ca"
      },
      "source": [
        "import numpy as np\n",
        "import matplotlib.pyplot as plt\n",
        "print(\"Training samples dimensions: \", train_samples.shape)\n",
        "print(\"Training labels dimensions: \", train_labels.shape)\n",
        "print(\"Test samples dimensions: \", test_samples.shape)\n",
        "print(\"Test labels dimensions: \", test_labels.shape)"
      ],
      "execution_count": null,
      "outputs": [
        {
          "output_type": "stream",
          "text": [
            "Training samples dimensions:  (60000, 28, 28)\n",
            "Training labels dimensions:  (60000,)\n",
            "Test samples dimensions:  (10000, 28, 28)\n",
            "Test labels dimensions:  (10000,)\n"
          ],
          "name": "stdout"
        }
      ]
    },
    {
      "cell_type": "code",
      "metadata": {
        "id": "F93ZKWtR_P9i",
        "colab_type": "code",
        "colab": {
          "base_uri": "https://localhost:8080/",
          "height": 68
        },
        "outputId": "32acb544-f3a7-45e7-ddc6-2a61c7eaf06f"
      },
      "source": [
        "print(\"Data sample dimensions: \", train_samples.shape[1:])\n",
        "assert train_samples.shape[1:] == test_samples.shape[1:] # Assertion to prove the equality of dimensions in test samples and training samples\n",
        "print(\"Training sample count: \", train_samples.shape[0])\n",
        "print(\"Test sample count: \", test_samples.shape[0])"
      ],
      "execution_count": null,
      "outputs": [
        {
          "output_type": "stream",
          "text": [
            "Data sample dimensions:  (28, 28)\n",
            "Training sample count:  60000\n",
            "Test sample count:  10000\n"
          ],
          "name": "stdout"
        }
      ]
    },
    {
      "cell_type": "markdown",
      "metadata": {
        "id": "KFJ0FewIABLL",
        "colab_type": "text"
      },
      "source": [
        "### Data Sample\n",
        "To show the task, one random data sample from training set is selected with its corresponding label"
      ]
    },
    {
      "cell_type": "code",
      "metadata": {
        "id": "Gpd12LPF_7iD",
        "colab_type": "code",
        "colab": {
          "base_uri": "https://localhost:8080/",
          "height": 299
        },
        "outputId": "3b3fb7c0-4915-423a-bb4f-5344996ce77f"
      },
      "source": [
        "import random\n",
        "random.seed(1) # For consistency in different runs\n",
        "random_idx = int(random.random() * train_samples.shape[0]) # Corresponds to the index of a training example\n",
        "data_sample, data_label = train_samples[random_idx], train_labels[random_idx]\n",
        "print('Label of the data sample: ', data_label)\n",
        "plt.imshow(data_sample, cmap = 'gray')"
      ],
      "execution_count": null,
      "outputs": [
        {
          "output_type": "stream",
          "text": [
            "Label of the data sample:  5\n"
          ],
          "name": "stdout"
        },
        {
          "output_type": "execute_result",
          "data": {
            "text/plain": [
              "<matplotlib.image.AxesImage at 0x7f882c5b0a58>"
            ]
          },
          "metadata": {
            "tags": []
          },
          "execution_count": 10
        },
        {
          "output_type": "display_data",
          "data": {
            "image/png": "[encoded data removed]",
            "text/plain": [
              "<Figure size 432x288 with 1 Axes>"
            ]
          },
          "metadata": {
            "tags": [],
            "needs_background": "light"
          }
        }
      ]
    },
    {
      "cell_type": "markdown",
      "metadata": {
        "id": "2J6o6QCVB-bK",
        "colab_type": "text"
      },
      "source": [
        "### Data Normalization\n",
        "To reduce the variance in both test and training set, normalization applied  (Min-max feature scaling) The normalization formula is as follows:</br></br>\n",
        "$\\large{X' = \\frac{X - X_{min}}{X_{max}}}$</br></br>\n",
        "Note that minimum pixel value is 0 and maximum pixel value is 255 here"
      ]
    },
    {
      "cell_type": "code",
      "metadata": {
        "id": "-PFPI0ExEAH6",
        "colab_type": "code",
        "colab": {}
      },
      "source": [
        "train_samples = train_samples / 255.0\n",
        "test_samples = test_samples / 255.0"
      ],
      "execution_count": null,
      "outputs": []
    },
    {
      "cell_type": "markdown",
      "metadata": {
        "id": "5PdRthz5EjEe",
        "colab_type": "text"
      },
      "source": [
        "#Model\n",
        "In the model here, there are no convolutional layers included as it is just an entry level example. The neural network model here will consist of 2 fully connected layers, which one has 256 neurons and the other has 128 neurons as an example. For the classification, as this is a multi-class classification problem, **softmax** activation has been used for 10 neurons (10 = # of classes)"
      ]
    },
    {
      "cell_type": "code",
      "metadata": {
        "id": "c-d0WaWAEe7K",
        "colab_type": "code",
        "colab": {}
      },
      "source": [
        "X_in = tf.keras.layers.Input(shape = train_samples.shape[1:]) # Input layer\n",
        "X = tf.keras.layers.Flatten()(X_in)\n",
        "X = tf.keras.layers.Dense(units = 256, activation = 'relu')(X)\n",
        "X = tf.keras.layers.Dense(units = 128, activation = 'relu')(X)\n",
        "out = tf.keras.layers.Dense(units = 10, activation = 'softmax')(X) # Output layer\n",
        "model = tf.keras.Model(inputs = X_in, outputs = out)"
      ],
      "execution_count": null,
      "outputs": []
    },
    {
      "cell_type": "markdown",
      "metadata": {
        "id": "5uNJyUaaIVjE",
        "colab_type": "text"
      },
      "source": [
        "## Compile the model\n",
        "After constructing the model, the desired metrics to observe during training (**metrics**), the loss function for training (**loss**) and the optimization algorithm is needed to be specified (**optimizer**). The following metrics has been selected:\n",
        "- **Optimizer: Adam Optimizer**, to make use of moving average and momentum\n",
        "- **Loss: Sparse Categorical Crossentropy**, the task is multiclass classification and the labels are not in the form of one-hot vector </br>(eg. for label 2, one-hot vector representation is: $\\begin{bmatrix}0&0&1&0&...&0&0\\end{bmatrix}$)\n",
        "- **Metrics: Accuracy**, to keep track of training accuracy"
      ]
    },
    {
      "cell_type": "code",
      "metadata": {
        "id": "x4STHBvuIT4T",
        "colab_type": "code",
        "colab": {
          "base_uri": "https://localhost:8080/",
          "height": 697
        },
        "outputId": "4f71fe76-f42f-45c9-cb02-f2f648eafe0e"
      },
      "source": [
        "epoch_count = 20\n",
        "model.compile(optimizer = 'adam',\n",
        "              loss = 'sparse_categorical_crossentropy',\n",
        "              metrics = ['accuracy'])\n",
        "# Training the model with training samples and labels -- training for 20 epochs\n",
        "history = model.fit(x = train_samples, y = train_labels, epochs = epoch_count)"
      ],
      "execution_count": null,
      "outputs": [
        {
          "output_type": "stream",
          "text": [
            "Epoch 1/20\n",
            "1875/1875 [==============================] - 5s 3ms/step - loss: 0.2715 - accuracy: 0.8994\n",
            "Epoch 2/20\n",
            "1875/1875 [==============================] - 5s 3ms/step - loss: 0.2552 - accuracy: 0.9033\n",
            "Epoch 3/20\n",
            "1875/1875 [==============================] - 6s 3ms/step - loss: 0.2448 - accuracy: 0.9079\n",
            "Epoch 4/20\n",
            "1875/1875 [==============================] - 8s 4ms/step - loss: 0.2351 - accuracy: 0.9106\n",
            "Epoch 5/20\n",
            "1875/1875 [==============================] - 5s 3ms/step - loss: 0.2235 - accuracy: 0.9159\n",
            "Epoch 6/20\n",
            "1875/1875 [==============================] - 5s 3ms/step - loss: 0.2181 - accuracy: 0.9167\n",
            "Epoch 7/20\n",
            "1875/1875 [==============================] - 5s 3ms/step - loss: 0.2097 - accuracy: 0.9213\n",
            "Epoch 8/20\n",
            "1875/1875 [==============================] - 5s 3ms/step - loss: 0.2039 - accuracy: 0.9220\n",
            "Epoch 9/20\n",
            "1875/1875 [==============================] - 5s 3ms/step - loss: 0.1941 - accuracy: 0.9269\n",
            "Epoch 10/20\n",
            "1875/1875 [==============================] - 5s 3ms/step - loss: 0.1861 - accuracy: 0.9287\n",
            "Epoch 11/20\n",
            "1875/1875 [==============================] - 5s 3ms/step - loss: 0.1840 - accuracy: 0.9290\n",
            "Epoch 12/20\n",
            "1875/1875 [==============================] - 5s 3ms/step - loss: 0.1768 - accuracy: 0.9321\n",
            "Epoch 13/20\n",
            "1875/1875 [==============================] - 5s 3ms/step - loss: 0.1705 - accuracy: 0.9342\n",
            "Epoch 14/20\n",
            "1875/1875 [==============================] - 5s 3ms/step - loss: 0.1670 - accuracy: 0.9363\n",
            "Epoch 15/20\n",
            "1875/1875 [==============================] - 5s 3ms/step - loss: 0.1617 - accuracy: 0.9369\n",
            "Epoch 16/20\n",
            "1875/1875 [==============================] - 5s 3ms/step - loss: 0.1559 - accuracy: 0.9399\n",
            "Epoch 17/20\n",
            "1875/1875 [==============================] - 5s 3ms/step - loss: 0.1530 - accuracy: 0.9409\n",
            "Epoch 18/20\n",
            "1875/1875 [==============================] - 5s 3ms/step - loss: 0.1502 - accuracy: 0.9424\n",
            "Epoch 19/20\n",
            "1875/1875 [==============================] - 5s 3ms/step - loss: 0.1440 - accuracy: 0.9446\n",
            "Epoch 20/20\n",
            "1875/1875 [==============================] - 5s 3ms/step - loss: 0.1394 - accuracy: 0.9467\n"
          ],
          "name": "stdout"
        }
      ]
    },
    {
      "cell_type": "code",
      "metadata": {
        "id": "ViT4yHT0U-Ch",
        "colab_type": "code",
        "colab": {
          "base_uri": "https://localhost:8080/",
          "height": 350
        },
        "outputId": "6f84f6e2-c5fc-4f6a-850d-b29458163f98"
      },
      "source": [
        "# Visualizing the changes in training loss and training accuracy values\n",
        "fig, ax = plt.subplots(1,2, figsize = (15,5))\n",
        "ax[0].plot(range(1,epoch_count + 1), history.history['loss'])\n",
        "ax[0].set_xlabel('epochs')\n",
        "ax[0].set_ylabel('Training Loss')\n",
        "ax[0].set_title('Change in Training Loss')\n",
        "ax[1].plot(range(1,epoch_count + 1), history.history['accuracy'])\n",
        "ax[1].set_xlabel('epochs')\n",
        "ax[1].set_ylabel('Training_accuracy')\n",
        "ax[1].set_title('Change in Training Accuracy')\n",
        "fig.show()"
      ],
      "execution_count": null,
      "outputs": [
        {
          "output_type": "display_data",
          "data": {
            "image/png": "[encoded data removed]",
            "text/plain": [
              "<Figure size 1080x360 with 2 Axes>"
            ]
          },
          "metadata": {
            "tags": [],
            "needs_background": "light"
          }
        }
      ]
    },
    {
      "cell_type": "markdown",
      "metadata": {
        "id": "jrboyeOeLUb2",
        "colab_type": "text"
      },
      "source": [
        "## Evaluating the model\n",
        "Now with the test data, the model will be evaluated with prediction accuracy. \n"
      ]
    },
    {
      "cell_type": "code",
      "metadata": {
        "id": "oFGiKlnVLJWW",
        "colab_type": "code",
        "colab": {
          "base_uri": "https://localhost:8080/",
          "height": 68
        },
        "outputId": "10d445c8-2a51-4877-c2c8-9bc8e711754a"
      },
      "source": [
        "eval = model.evaluate(test_samples, test_labels)\n",
        "print('Testing loss: ', eval[0])\n",
        "print('Testing accuracy: ', eval[1])"
      ],
      "execution_count": null,
      "outputs": [
        {
          "output_type": "stream",
          "text": [
            "313/313 [==============================] - 0s 1ms/step - loss: 0.3376 - accuracy: 0.8811\n",
            "Testing loss:  0.33757445216178894\n",
            "Testing accuracy:  0.8810999989509583\n"
          ],
          "name": "stdout"
        }
      ]
    },
    {
      "cell_type": "markdown",
      "metadata": {
        "id": "LFozyjFzX-HI",
        "colab_type": "text"
      },
      "source": [
        "## Adding a Callback\n",
        "To have more control in training, a callback is defined while fitting the model. In this notebook, the callback function described does two things. They are:\n",
        "- At the end of each epoch, prints a summary of the epoch.\n",
        "- Stops training if loss is less than 0.15"
      ]
    },
    {
      "cell_type": "code",
      "metadata": {
        "id": "3L8Lalc9LnYK",
        "colab_type": "code",
        "colab": {
          "base_uri": "https://localhost:8080/",
          "height": 867
        },
        "outputId": "946c192e-3f3f-4e07-f078-e59cb7e60c54"
      },
      "source": [
        "class controlCallbakck(tf.keras.callbacks.Callback):\n",
        "    def on_epoch_end(self, epoch, logs = {}):\n",
        "        print(\"\\nFor epoch \" + str(epoch) + \", loss is \" + str(logs.get('loss')) + \" and accuracy is \" + str(logs.get('accuracy')))\n",
        "        if logs.get('loss') < 0.15:\n",
        "            print(\"Loss too low, stopping training...\")\n",
        "            self.model.stop_training = True\n",
        "\n",
        "callback = controlCallbakck()\n",
        "X_in = tf.keras.layers.Input(shape = train_samples.shape[1:]) # Input layer\n",
        "X = tf.keras.layers.Flatten()(X_in)\n",
        "X = tf.keras.layers.Dense(units = 256, activation = 'relu')(X)\n",
        "X = tf.keras.layers.Dense(units = 128, activation = 'relu')(X)\n",
        "out = tf.keras.layers.Dense(units = 10, activation = 'softmax')(X) # Output layer\n",
        "model = tf.keras.Model(inputs = X_in, outputs = out)\n",
        "epoch_count = 30\n",
        "model.compile(optimizer = 'adam',\n",
        "              loss = 'sparse_categorical_crossentropy',\n",
        "              metrics = ['accuracy'])\n",
        "model.fit(x = train_samples, y = train_labels, epochs = epoch_count, callbacks = [callback], verbose = 0)"
      ],
      "execution_count": null,
      "outputs": [
        {
          "output_type": "stream",
          "text": [
            "\n",
            "For epoch 0, loss is 0.4806281328201294 and accuracy is 0.8281333446502686\n",
            "\n",
            "For epoch 1, loss is 0.36074966192245483 and accuracy is 0.8667500019073486\n",
            "\n",
            "For epoch 2, loss is 0.32502463459968567 and accuracy is 0.8802666664123535\n",
            "\n",
            "For epoch 3, loss is 0.300992488861084 and accuracy is 0.887499988079071\n",
            "\n",
            "For epoch 4, loss is 0.28268513083457947 and accuracy is 0.8939833045005798\n",
            "\n",
            "For epoch 5, loss is 0.26982632279396057 and accuracy is 0.8982833623886108\n",
            "\n",
            "For epoch 6, loss is 0.25688281655311584 and accuracy is 0.9022833108901978\n",
            "\n",
            "For epoch 7, loss is 0.24549917876720428 and accuracy is 0.906499981880188\n",
            "\n",
            "For epoch 8, loss is 0.23386915028095245 and accuracy is 0.9112833142280579\n",
            "\n",
            "For epoch 9, loss is 0.228058859705925 and accuracy is 0.9133166670799255\n",
            "\n",
            "For epoch 10, loss is 0.2202303111553192 and accuracy is 0.9168000221252441\n",
            "\n",
            "For epoch 11, loss is 0.21005438268184662 and accuracy is 0.9193666577339172\n",
            "\n",
            "For epoch 12, loss is 0.20374664664268494 and accuracy is 0.9226666688919067\n",
            "\n",
            "For epoch 13, loss is 0.1948915421962738 and accuracy is 0.9250666499137878\n",
            "\n",
            "For epoch 14, loss is 0.18897730112075806 and accuracy is 0.9277166724205017\n",
            "\n",
            "For epoch 15, loss is 0.18344178795814514 and accuracy is 0.9299166798591614\n",
            "\n",
            "For epoch 16, loss is 0.17920608818531036 and accuracy is 0.9311833381652832\n",
            "\n",
            "For epoch 17, loss is 0.17604096233844757 and accuracy is 0.9332833290100098\n",
            "\n",
            "For epoch 18, loss is 0.16682131588459015 and accuracy is 0.9348999857902527\n",
            "\n",
            "For epoch 19, loss is 0.16099537909030914 and accuracy is 0.9380499720573425\n",
            "\n",
            "For epoch 20, loss is 0.15702207386493683 and accuracy is 0.9393333196640015\n",
            "\n",
            "For epoch 21, loss is 0.1508662849664688 and accuracy is 0.9425666928291321\n",
            "\n",
            "For epoch 22, loss is 0.1511286497116089 and accuracy is 0.9423333406448364\n",
            "\n",
            "For epoch 23, loss is 0.14641541242599487 and accuracy is 0.9437333345413208\n",
            "Loss too low, stopping training...\n"
          ],
          "name": "stdout"
        },
        {
          "output_type": "execute_result",
          "data": {
            "text/plain": [
              "<tensorflow.python.keras.callbacks.History at 0x7f881b006f28>"
            ]
          },
          "metadata": {
            "tags": []
          },
          "execution_count": 38
        }
      ]
    },
    {
      "cell_type": "markdown",
      "metadata": {
        "id": "fyEXT_upc2CH",
        "colab_type": "text"
      },
      "source": [
        "### Evaluating the model in terms of accuracy\n",
        "In the following, the model which the training is interrupted early due to the loss is evaluated in terms of accuracy."
      ]
    },
    {
      "cell_type": "code",
      "metadata": {
        "id": "dEFaBNXddLsM",
        "colab_type": "code",
        "colab": {
          "base_uri": "https://localhost:8080/",
          "height": 68
        },
        "outputId": "6c6f3736-d27e-4b65-d21e-4f9528e2f995"
      },
      "source": [
        "eval = model.evaluate(test_samples, test_labels)\n",
        "print('Testing loss: ', eval[0])\n",
        "print('Testing accuracy: ', eval[1])"
      ],
      "execution_count": null,
      "outputs": [
        {
          "output_type": "stream",
          "text": [
            "313/313 [==============================] - 0s 1ms/step - loss: 0.4311 - accuracy: 0.8913\n",
            "Testing loss:  0.4310731589794159\n",
            "Testing accuracy:  0.8913000226020813\n"
          ],
          "name": "stdout"
        }
      ]
    }
  ]
}