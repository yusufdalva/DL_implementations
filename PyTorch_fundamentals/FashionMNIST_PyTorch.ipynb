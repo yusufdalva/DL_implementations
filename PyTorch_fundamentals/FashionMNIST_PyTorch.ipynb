{
  "nbformat": 4,
  "nbformat_minor": 0,
  "metadata": {
    "colab": {
      "name": "FashionMNIST_PyTorch.ipynb",
      "provenance": [],
      "collapsed_sections": [],
      "authorship_tag": "ABX9TyOEpd+6gu56VTqXWQNTWHwm",
      "include_colab_link": true
    },
    "kernelspec": {
      "name": "python3",
      "display_name": "Python 3"
    },
    "language_info": {
      "name": "python"
    },
    "accelerator": "GPU"
  },
  "cells": [
    {
      "cell_type": "markdown",
      "metadata": {
        "id": "view-in-github",
        "colab_type": "text"
      },
      "source": [
        "<a href=\"https://colab.research.google.com/github/yusufdalva/ML_implementations/blob/master/PyTorch_fundamentals/FashionMNIST_PyTorch.ipynb\" target=\"_parent\"><img src=\"https://colab.research.google.com/assets/colab-badge.svg\" alt=\"Open In Colab\"/></a>"
      ]
    },
    {
      "cell_type": "markdown",
      "source": [
        "# Multi-Class Classification with Simple CNNs\n",
        "In this part of the tutorial, we are going to go over the simple training pipeline of PyTorch. As a task, we will train a classifier to perform a 10-class image classification.\n",
        "\n",
        "## Importing PyTorch\n",
        "To implement our model, we will use some modules provided by PyTorch. The necessary imports are given in the cell below."
      ],
      "metadata": {
        "id": "U3tWkvD_vzZ-"
      }
    },
    {
      "cell_type": "code",
      "execution_count": null,
      "metadata": {
        "id": "3FdvXgDqNcNJ"
      },
      "outputs": [],
      "source": [
        "import torch\n",
        "from torch.utils.data import DataLoader\n",
        "from torch import nn, optim\n",
        "from torchvision import datasets, transforms"
      ]
    },
    {
      "cell_type": "markdown",
      "source": [
        "## Checking Which Version Are We Using\n",
        "To check the installation version of PyTorch in our current system, we can use $\\texttt{torch.__version__()}$. Here, *1.10.0* denotes the PyTorch version and *cu111* denotes the version of CUDA Toolkit installed (11.1 here). CUDA toolkit enables us to communicate with NVIDIA GPUs to accelerate our implementation."
      ],
      "metadata": {
        "id": "Bs4YoiDrwc_3"
      }
    },
    {
      "cell_type": "code",
      "source": [
        "print(\"Using Pytorch {}\".format(torch.__version__))"
      ],
      "metadata": {
        "colab": {
          "base_uri": "https://localhost:8080/"
        },
        "id": "WPJxsRszOZ8P",
        "outputId": "3a9bef1a-38aa-4e76-fbb8-d8fbde81fe5f"
      },
      "execution_count": null,
      "outputs": [
        {
          "output_type": "stream",
          "name": "stdout",
          "text": [
            "Using Pytorch 1.10.0+cu111\n"
          ]
        }
      ]
    },
    {
      "cell_type": "markdown",
      "source": [
        "## GPU Related Information\n",
        "To be sure that we can accelerate our implementation with a GPU in the current setup, we can check the GPU details as follows. In Colab, you can get GPU support in a limited amount. See Runtime->Change Runtime Type to utilize GPU in your run."
      ],
      "metadata": {
        "id": "4WB2NZ7-xl_a"
      }
    },
    {
      "cell_type": "code",
      "source": [
        "is_gpu_available = torch.cuda.is_available()\n",
        "print(\"Is GPU being used: {}\".format(is_gpu_available))\n",
        "if is_gpu_available:\n",
        "    print(\"There are {} GPU(s) available\".format(torch.cuda.device_count()))\n",
        "    device_id = torch.cuda.current_device()\n",
        "    device_name = torch.cuda.get_device_name(device_id)\n",
        "    print(\"Name of the current GPU: {}\".format(device_name))"
      ],
      "metadata": {
        "colab": {
          "base_uri": "https://localhost:8080/"
        },
        "id": "tGZ6dVS9O1LW",
        "outputId": "8bf11437-ac45-4606-fdeb-fc3a9df3c8d3"
      },
      "execution_count": null,
      "outputs": [
        {
          "output_type": "stream",
          "name": "stdout",
          "text": [
            "Is GPU being used: True\n",
            "There are 1 GPU(s) available\n",
            "Name of the current GPU: Tesla T4\n"
          ]
        }
      ]
    },
    {
      "cell_type": "code",
      "source": [
        "!nvidia-smi"
      ],
      "metadata": {
        "colab": {
          "base_uri": "https://localhost:8080/"
        },
        "id": "41fHEuvoPuf4",
        "outputId": "2eaec37c-0d5a-490c-85b2-cbb566bfd9bc"
      },
      "execution_count": null,
      "outputs": [
        {
          "output_type": "stream",
          "name": "stdout",
          "text": [
            "Sun Apr  3 19:46:05 2022       \n",
            "+-----------------------------------------------------------------------------+\n",
            "| NVIDIA-SMI 460.32.03    Driver Version: 460.32.03    CUDA Version: 11.2     |\n",
            "|-------------------------------+----------------------+----------------------+\n",
            "| GPU  Name        Persistence-M| Bus-Id        Disp.A | Volatile Uncorr. ECC |\n",
            "| Fan  Temp  Perf  Pwr:Usage/Cap|         Memory-Usage | GPU-Util  Compute M. |\n",
            "|                               |                      |               MIG M. |\n",
            "|===============================+======================+======================|\n",
            "|   0  Tesla T4            Off  | 00000000:00:04.0 Off |                    0 |\n",
            "| N/A   62C    P8    11W /  70W |      3MiB / 15109MiB |      0%      Default |\n",
            "|                               |                      |                  N/A |\n",
            "+-------------------------------+----------------------+----------------------+\n",
            "                                                                               \n",
            "+-----------------------------------------------------------------------------+\n",
            "| Processes:                                                                  |\n",
            "|  GPU   GI   CI        PID   Type   Process name                  GPU Memory |\n",
            "|        ID   ID                                                   Usage      |\n",
            "|=============================================================================|\n",
            "|  No running processes found                                                 |\n",
            "+-----------------------------------------------------------------------------+\n"
          ]
        }
      ]
    },
    {
      "cell_type": "markdown",
      "source": [
        "## Loading the Dataset\n",
        "We will use the Fashion-MNIST dataset for training. $\\texttt{torchvision}$ library provides some datasets that are already splitted to train and test sets, where Fashion-MNIST is one of them. So we will download the dataset and load it apprpriately.\n",
        "\n",
        "To load the data in batches, we will use DataLoader class from PyTorch. This converts our data to tensors and loads them as batches."
      ],
      "metadata": {
        "id": "AJmHuAsTyWxL"
      }
    },
    {
      "cell_type": "code",
      "source": [
        "transform_data = transforms.Compose([transforms.ToTensor(), transforms.Normalize((0.5,), (0.5,))]) # The images are grayscale, we only normalize one channel\n",
        "\n",
        "train_dataset = datasets.FashionMNIST('./data', download=True, train=True, transform=transform_data)\n",
        "train_data_loader = DataLoader(train_dataset, batch_size=128, shuffle=True)\n",
        "\n",
        "test_dataset = datasets.FashionMNIST('./data', download=True, train=False, transform=transform_data)\n",
        "test_data_loader = DataLoader(test_dataset, batch_size=64, shuffle=True) # Batch size is different just to show that it can be loaded differently"
      ],
      "metadata": {
        "id": "Ww_YXRR-Q7kK"
      },
      "execution_count": null,
      "outputs": []
    },
    {
      "cell_type": "markdown",
      "source": [
        "## Model Definition\n",
        "Now we will decribe out model, with implemented modules in PyTorch. We will use 2 consecutive convolution blocks, followed by three dense layers (Linear). Here, keep in mind that the output size is determined by the following formula for a given convolutional layer:<br><br>\n",
        "$width\\_out = \\frac{width - kernel\\_size + 2 \\times padding}{stride}$<br> <br>$height\\_out = \\frac{height - kernel\\_size + 2 \\times padding}{stride}$"
      ],
      "metadata": {
        "id": "F_ejTHxV02ED"
      }
    },
    {
      "cell_type": "markdown",
      "source": [
        "### What does Conv2d define\n",
        "When we define a $\\texttt{nn.Conv2d}$ layer with in_channels = i and out_channels = o, we define o different filters where each of them is i dimensional. So if I define 3x3 filters with kernel size 3, each of my filters are ix3x3 and I have o of them.<br>\n",
        "\n",
        "![alt text](https://media5.datahacker.rs/2018/11/new_NN_CNN_1_1.png \"2D Convolution example\")"
      ],
      "metadata": {
        "id": "ocf0vCJuMy1l"
      }
    },
    {
      "cell_type": "code",
      "source": [
        "class FMNIST_Classifier(nn.Module):\n",
        "    def __init__(self, conv_channels):\n",
        "        super(FMNIST_Classifier, self).__init__()\n",
        "\n",
        "        assert len(conv_channels) == 2 # I will have 2 consecutive convultional blocks\n",
        "        self.conv_channels = conv_channels\n",
        "\n",
        "        self.conv_block_1 = nn.Sequential(\n",
        "            nn.Conv2d(in_channels=1, out_channels=self.conv_channels[0], kernel_size=3, padding=1),\n",
        "            nn.BatchNorm2d(self.conv_channels[0]),\n",
        "            nn.ReLU(),\n",
        "            nn.MaxPool2d(kernel_size=2, stride=2)\n",
        "        )\n",
        "\n",
        "        self.conv_block_2 = nn.Sequential(\n",
        "            nn.Conv2d(in_channels=self.conv_channels[0], out_channels=self.conv_channels[1], kernel_size=3, padding=1),\n",
        "            nn.BatchNorm2d(self.conv_channels[1]),\n",
        "            nn.ReLU(),\n",
        "            nn.MaxPool2d(kernel_size=2, stride=2)\n",
        "        )\n",
        "\n",
        "        output_size = (28 // 4) # Downsampled it 2 times\n",
        "        self.fc_1 = nn.Linear(in_features=self.conv_channels[1] * output_size * output_size, out_features=128)\n",
        "        self.fc_2 = nn.Linear(in_features=128, out_features=64)\n",
        "        self.fc_3 = nn.Linear(in_features=64, out_features=10) # Predicting probabilities for 10 class\n",
        "\n",
        "    def forward(self, x):\n",
        "        x = self.conv_block_1(x)\n",
        "        x = self.conv_block_2(x)\n",
        "        x = x.view(-1, self.conv_channels[1] * 7 * 7) # Flatten the tensor\n",
        "        x = self.fc_1(x)\n",
        "        x = self.fc_2(x)\n",
        "        x = self.fc_3(x)\n",
        "        return x\n"
      ],
      "metadata": {
        "id": "2UJ0v5VZQDAd"
      },
      "execution_count": null,
      "outputs": []
    },
    {
      "cell_type": "markdown",
      "source": [
        "## Definining the Optimization Function\n",
        "For our model, we use Cross Entropy Loss for multiple classes. $\\texttt{nn.CrossEntropyLoss}$ provides a loss operating on Log(Softmax) values, where softmax function is the multi-class case of the sigmoid function. The formulation of Cross Entropy Loss is as follows:<br>\n",
        "$\\LARGE{\\mathcal{L} = - \\sum_{c=1}^{C} log \\frac{exp({o_{n,c}})}{\\sum_{i=1}^C exp(o_{n,i})}}\n",
        "$ <br>\n",
        "Here, $\\frac{exp({o_{n,c}})}{\\sum_{i=1}^C exp(o_{n,i})}$ is the softmax function. C denotes the number of classes. In this function we simply try to calculate a probability by the regressed values for 10 different classes.\n",
        "<br>\n",
        "Note that we need to pass every module or variable we need to GPU, to use ahrdware acceleration. We can do this with call $\\texttt{.cuda()}$."
      ],
      "metadata": {
        "id": "aN5aXwwI2HxQ"
      }
    },
    {
      "cell_type": "code",
      "source": [
        "criterion = nn.CrossEntropyLoss()\n",
        "conv_channels = [32, 64]\n",
        "model = FMNIST_Classifier(conv_channels)\n",
        "if is_gpu_available:\n",
        "    model.cuda()"
      ],
      "metadata": {
        "id": "FL29mzeIXMmi"
      },
      "execution_count": null,
      "outputs": []
    },
    {
      "cell_type": "markdown",
      "source": [
        "## Defining the optimizer\n",
        "To update my weights, I need a gradient update algorithm. For our prouposes, we selected Stochastic Gradient Descent as the simplest update mechanism. Keep in mind that even though the name says **Stochastic**, we can iterate it in a full-batch or mini-batch manner. This algorithm updates the weights bu scaling the gradients with the $\\texttt{learning_rate}$ you provided. \n",
        "\n",
        "\n",
        "If you take a look at the update algoritms in $\\texttt{torch.optim}$, SGD is the vanilla version among different optimizers."
      ],
      "metadata": {
        "id": "AeqTKVzs4Kd4"
      }
    },
    {
      "cell_type": "code",
      "source": [
        "learning_rate = 1e-3\n",
        "optimizer = optim.SGD(model.parameters(), lr=learning_rate)"
      ],
      "metadata": {
        "id": "GRd_MDXUZ3Gq"
      },
      "execution_count": null,
      "outputs": []
    },
    {
      "cell_type": "markdown",
      "source": [
        "## Training the model\n",
        "To train our model, we need to go though several steps. In training we will go through data batches in every epoch. In every iterarion (every batch) we will do the following steps:<br>\n",
        "- Reset the gradient: Be sure that gradients from the previous updates are cleared ($\\texttt{optimizer.zero_grad()}$)\n",
        "- Perform Predcitions: We need to perform predictions ($\\texttt{model(x)}$) to calculate the loss and to be able to calculate the respective gradients. Then we calculate the loss from predictions\n",
        "- Calculate the gradients: When performing the gradients, we loaded the values needed to calculate the gradients. If we call a backpropogation, gradients will be calculated ($\\texttt{loss.backward()}$)\n",
        "- Updating the weights: Now that we have the gradients, we will update the weights by calling $\\texttt{optimizer.step()}$"
      ],
      "metadata": {
        "id": "8WSpobAp6C3V"
      }
    },
    {
      "cell_type": "code",
      "source": [
        "from tqdm import tqdm\n",
        "# Training loop\n",
        "no_of_epochs = 20\n",
        "iter_losses = []\n",
        "epoch_losses = []\n",
        "for epoch in range(no_of_epochs):\n",
        "    running_loss = 0.0\n",
        "    print(\"Epoch: {}/{}\".format(epoch + 1, no_of_epochs))\n",
        "    for batch_data, batch_labels in tqdm(train_data_loader):\n",
        "        optimizer.zero_grad() # Setting the starting gradients as 0\n",
        "        batch_outputs = model(batch_data.cuda()) # Predict outputs\n",
        "        loss = criterion(batch_outputs.cuda(), batch_labels.cuda()) # Calculate the loss\n",
        "        loss.backward() # Calculate the gradients\n",
        "        optimizer.step() # Update the weights\n",
        "        iter_losses.append(loss.item())\n",
        "        running_loss += loss.item()\n",
        "    epoch_losses.append(running_loss / len(train_data_loader))\n",
        "    print(\"Loss for epoch: {}\".format(running_loss / len(train_data_loader)))\n",
        "print(\"Finished Training!\")\n"
      ],
      "metadata": {
        "colab": {
          "base_uri": "https://localhost:8080/"
        },
        "id": "Dj8_eJvoa6IW",
        "outputId": "a97dc3f1-03af-482c-983b-c6c446bdf017"
      },
      "execution_count": null,
      "outputs": [
        {
          "output_type": "stream",
          "name": "stdout",
          "text": [
            "Epoch: 1/20\n"
          ]
        },
        {
          "output_type": "stream",
          "name": "stderr",
          "text": [
            "100%|██████████| 469/469 [00:15<00:00, 29.50it/s]\n"
          ]
        },
        {
          "output_type": "stream",
          "name": "stdout",
          "text": [
            "Loss for epoch: 1.4819651057979446\n",
            "Epoch: 2/20\n"
          ]
        },
        {
          "output_type": "stream",
          "name": "stderr",
          "text": [
            "100%|██████████| 469/469 [00:12<00:00, 36.95it/s]\n"
          ]
        },
        {
          "output_type": "stream",
          "name": "stdout",
          "text": [
            "Loss for epoch: 0.8227935920137841\n",
            "Epoch: 3/20\n"
          ]
        },
        {
          "output_type": "stream",
          "name": "stderr",
          "text": [
            "100%|██████████| 469/469 [00:12<00:00, 36.55it/s]\n"
          ]
        },
        {
          "output_type": "stream",
          "name": "stdout",
          "text": [
            "Loss for epoch: 0.6535154732305613\n",
            "Epoch: 4/20\n"
          ]
        },
        {
          "output_type": "stream",
          "name": "stderr",
          "text": [
            "100%|██████████| 469/469 [00:12<00:00, 37.67it/s]\n"
          ]
        },
        {
          "output_type": "stream",
          "name": "stdout",
          "text": [
            "Loss for epoch: 0.5775531139582205\n",
            "Epoch: 5/20\n"
          ]
        },
        {
          "output_type": "stream",
          "name": "stderr",
          "text": [
            "100%|██████████| 469/469 [00:13<00:00, 35.95it/s]\n"
          ]
        },
        {
          "output_type": "stream",
          "name": "stdout",
          "text": [
            "Loss for epoch: 0.5311321586942368\n",
            "Epoch: 6/20\n"
          ]
        },
        {
          "output_type": "stream",
          "name": "stderr",
          "text": [
            "100%|██████████| 469/469 [00:12<00:00, 37.38it/s]\n"
          ]
        },
        {
          "output_type": "stream",
          "name": "stdout",
          "text": [
            "Loss for epoch: 0.49759504974269664\n",
            "Epoch: 7/20\n"
          ]
        },
        {
          "output_type": "stream",
          "name": "stderr",
          "text": [
            "100%|██████████| 469/469 [00:12<00:00, 37.38it/s]\n"
          ]
        },
        {
          "output_type": "stream",
          "name": "stdout",
          "text": [
            "Loss for epoch: 0.4718249667046675\n",
            "Epoch: 8/20\n"
          ]
        },
        {
          "output_type": "stream",
          "name": "stderr",
          "text": [
            "100%|██████████| 469/469 [00:12<00:00, 36.81it/s]\n"
          ]
        },
        {
          "output_type": "stream",
          "name": "stdout",
          "text": [
            "Loss for epoch: 0.4506104321622137\n",
            "Epoch: 9/20\n"
          ]
        },
        {
          "output_type": "stream",
          "name": "stderr",
          "text": [
            "100%|██████████| 469/469 [00:12<00:00, 37.68it/s]\n"
          ]
        },
        {
          "output_type": "stream",
          "name": "stdout",
          "text": [
            "Loss for epoch: 0.4332285194254633\n",
            "Epoch: 10/20\n"
          ]
        },
        {
          "output_type": "stream",
          "name": "stderr",
          "text": [
            "100%|██████████| 469/469 [00:12<00:00, 37.62it/s]\n"
          ]
        },
        {
          "output_type": "stream",
          "name": "stdout",
          "text": [
            "Loss for epoch: 0.418554499427647\n",
            "Epoch: 11/20\n"
          ]
        },
        {
          "output_type": "stream",
          "name": "stderr",
          "text": [
            "100%|██████████| 469/469 [00:12<00:00, 37.33it/s]\n"
          ]
        },
        {
          "output_type": "stream",
          "name": "stdout",
          "text": [
            "Loss for epoch: 0.405614657760429\n",
            "Epoch: 12/20\n"
          ]
        },
        {
          "output_type": "stream",
          "name": "stderr",
          "text": [
            "100%|██████████| 469/469 [00:12<00:00, 37.13it/s]\n"
          ]
        },
        {
          "output_type": "stream",
          "name": "stdout",
          "text": [
            "Loss for epoch: 0.39438137230969694\n",
            "Epoch: 13/20\n"
          ]
        },
        {
          "output_type": "stream",
          "name": "stderr",
          "text": [
            "100%|██████████| 469/469 [00:12<00:00, 37.04it/s]\n"
          ]
        },
        {
          "output_type": "stream",
          "name": "stdout",
          "text": [
            "Loss for epoch: 0.38405517706357595\n",
            "Epoch: 14/20\n"
          ]
        },
        {
          "output_type": "stream",
          "name": "stderr",
          "text": [
            "100%|██████████| 469/469 [00:12<00:00, 37.61it/s]\n"
          ]
        },
        {
          "output_type": "stream",
          "name": "stdout",
          "text": [
            "Loss for epoch: 0.37493668496608734\n",
            "Epoch: 15/20\n"
          ]
        },
        {
          "output_type": "stream",
          "name": "stderr",
          "text": [
            "100%|██████████| 469/469 [00:12<00:00, 37.56it/s]\n"
          ]
        },
        {
          "output_type": "stream",
          "name": "stdout",
          "text": [
            "Loss for epoch: 0.36678513598594586\n",
            "Epoch: 16/20\n"
          ]
        },
        {
          "output_type": "stream",
          "name": "stderr",
          "text": [
            "100%|██████████| 469/469 [00:12<00:00, 37.36it/s]\n"
          ]
        },
        {
          "output_type": "stream",
          "name": "stdout",
          "text": [
            "Loss for epoch: 0.3592687346406583\n",
            "Epoch: 17/20\n"
          ]
        },
        {
          "output_type": "stream",
          "name": "stderr",
          "text": [
            "100%|██████████| 469/469 [00:12<00:00, 37.88it/s]\n"
          ]
        },
        {
          "output_type": "stream",
          "name": "stdout",
          "text": [
            "Loss for epoch: 0.3520320958610791\n",
            "Epoch: 18/20\n"
          ]
        },
        {
          "output_type": "stream",
          "name": "stderr",
          "text": [
            "100%|██████████| 469/469 [00:12<00:00, 37.37it/s]\n"
          ]
        },
        {
          "output_type": "stream",
          "name": "stdout",
          "text": [
            "Loss for epoch: 0.3455146059616288\n",
            "Epoch: 19/20\n"
          ]
        },
        {
          "output_type": "stream",
          "name": "stderr",
          "text": [
            "100%|██████████| 469/469 [00:12<00:00, 37.43it/s]\n"
          ]
        },
        {
          "output_type": "stream",
          "name": "stdout",
          "text": [
            "Loss for epoch: 0.33925979570158\n",
            "Epoch: 20/20\n"
          ]
        },
        {
          "output_type": "stream",
          "name": "stderr",
          "text": [
            "100%|██████████| 469/469 [00:12<00:00, 37.05it/s]"
          ]
        },
        {
          "output_type": "stream",
          "name": "stdout",
          "text": [
            "Loss for epoch: 0.33392963235947626\n",
            "Finished Training!\n"
          ]
        },
        {
          "output_type": "stream",
          "name": "stderr",
          "text": [
            "\n"
          ]
        }
      ]
    },
    {
      "cell_type": "markdown",
      "source": [
        "## Evaluation\n",
        "After training the model, now we can have a look at the correct predictions by looking at the test set. As we loaded the data with a dataloader, we will iterate through batches. Keep in mind that some layers behave differently in test time and training time. So, taking the model to eval mode is a good practice. Following the predictions, we calculate the confusion matrix for our predictions."
      ],
      "metadata": {
        "id": "F91xtsXm7gwz"
      }
    },
    {
      "cell_type": "code",
      "source": [
        "model.eval()\n",
        "correct_preds = 0\n",
        "total_preds = 0\n",
        "all_preds = torch.tensor([])\n",
        "all_labels = torch.tensor([])\n",
        "with torch.no_grad():\n",
        "    for batch_data, batch_labels in test_data_loader:\n",
        "        batch_data = batch_data.cuda()\n",
        "        batch_labels = batch_labels.cuda()\n",
        "        batch_outputs = model(batch_data)\n",
        "        # Max returns: (max_values, max_indices)\n",
        "        # We only need the indices to assess the predictions\n",
        "        _, pred_labels = torch.max(batch_outputs, dim=1)\n",
        "        total_preds += pred_labels.size(0)\n",
        "        correct_preds += (pred_labels == batch_labels).sum().item()\n",
        "        all_preds = torch.cat((all_preds, pred_labels.cpu()), dim=0)\n",
        "        all_labels = torch.cat((all_labels, batch_labels.cpu()), dim=0)\n",
        "    print(\"Accuracy: {}\".format(correct_preds / total_preds))"
      ],
      "metadata": {
        "colab": {
          "base_uri": "https://localhost:8080/"
        },
        "id": "neO_Zrlec7_i",
        "outputId": "3b6be754-a773-4d8d-b722-696f4f6a8e5d"
      },
      "execution_count": null,
      "outputs": [
        {
          "output_type": "stream",
          "name": "stdout",
          "text": [
            "Accuracy: 0.8721\n"
          ]
        }
      ]
    },
    {
      "cell_type": "code",
      "source": [
        "confusion_matrix = torch.zeros(10, 10, dtype=torch.int64)\n",
        "for label_idx in range(len(all_labels)):\n",
        "    predicted = all_preds[label_idx].int()\n",
        "    real = all_labels[label_idx].int()\n",
        "    confusion_matrix[real, predicted] += 1"
      ],
      "metadata": {
        "id": "Cb0BVR2HjElT"
      },
      "execution_count": null,
      "outputs": []
    },
    {
      "cell_type": "code",
      "source": [
        "import matplotlib.pyplot as plt\n",
        "import seaborn as sns\n",
        "fig, ax = plt.subplots()\n",
        "ax = sns.heatmap(confusion_matrix.numpy(), annot=True, fmt=\"d\")\n",
        "fig.show()"
      ],
      "metadata": {
        "colab": {
          "base_uri": "https://localhost:8080/",
          "height": 265
        },
        "id": "kvvJHcNJlxiL",
        "outputId": "42e3ae7d-fd7d-458d-8eee-48d8eb590354"
      },
      "execution_count": null,
      "outputs": [
        {
          "output_type": "display_data",
          "data": {
            "text/plain": [
              "<Figure size 432x288 with 2 Axes>"
            ],
            "image/png": "[encoded data removed]"
          },
          "metadata": {
            "needs_background": "light"
          }
        }
      ]
    },
    {
      "cell_type": "markdown",
      "source": [
        "## How does the Loss Change?\n",
        "As we optimize our optimization function, we expect that our loss value goes down, as we go in the direction in the optimal direction. Note how the loss values flunctuate when we take a look at the loss at every update. This shows the nature of gradient descent and how it searches for the optimal point for the model weights."
      ],
      "metadata": {
        "id": "VEiruEXk8rDk"
      }
    },
    {
      "cell_type": "code",
      "source": [
        "fig, ax = plt.subplots()\n",
        "ax.plot(range(len(iter_losses)), iter_losses)\n",
        "ax.set_xlabel(\"Iterations\")\n",
        "ax.set_ylabel(\"Loss\")\n",
        "ax.set_title(\"Loss vs. Iterations\")\n",
        "fig.show()"
      ],
      "metadata": {
        "colab": {
          "base_uri": "https://localhost:8080/",
          "height": 295
        },
        "id": "jH_bFW7qmTGm",
        "outputId": "c3cc561b-371d-44e6-fa3b-1633ca1c6a9b"
      },
      "execution_count": null,
      "outputs": [
        {
          "output_type": "display_data",
          "data": {
            "text/plain": [
              "<Figure size 432x288 with 1 Axes>"
            ],
            "image/png": "[encoded data removed]"
          },
          "metadata": {
            "needs_background": "light"
          }
        }
      ]
    },
    {
      "cell_type": "markdown",
      "source": [
        "When we average the loss values for every epoch, we can see the decreasing nature of the loss function clearly. Note that these are not the actual loss values, but the loss values averaged over an epoch."
      ],
      "metadata": {
        "id": "GDZLa20a9JtJ"
      }
    },
    {
      "cell_type": "code",
      "source": [
        "fig, ax = plt.subplots()\n",
        "ax.plot(range(len(epoch_losses)), epoch_losses)\n",
        "ax.set_xlabel(\"Epoch\")\n",
        "ax.set_ylabel(\"Loss\")\n",
        "ax.set_title(\"Loss vs. Epoch\")\n",
        "fig.show()"
      ],
      "metadata": {
        "colab": {
          "base_uri": "https://localhost:8080/",
          "height": 295
        },
        "id": "REpx_8WJnvko",
        "outputId": "3c745e94-2235-464c-a68d-6f180a7bbde2"
      },
      "execution_count": null,
      "outputs": [
        {
          "output_type": "display_data",
          "data": {
            "text/plain": [
              "<Figure size 432x288 with 1 Axes>"
            ],
            "image/png": "[encoded data removed]"
          },
          "metadata": {
            "needs_background": "light"
          }
        }
      ]
    }
  ]
}