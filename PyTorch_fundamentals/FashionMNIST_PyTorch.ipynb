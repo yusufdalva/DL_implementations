{
  "nbformat": 4,
  "nbformat_minor": 0,
  "metadata": {
    "colab": {
      "name": "FashionMNIST_PyTorch.ipynb",
      "provenance": [],
      "collapsed_sections": [],
      "authorship_tag": "ABX9TyMISyM2tGhnZFogdFzOpi5Q",
      "include_colab_link": true
    },
    "kernelspec": {
      "name": "python3",
      "display_name": "Python 3"
    },
    "language_info": {
      "name": "python"
    },
    "accelerator": "GPU"
  },
  "cells": [
    {
      "cell_type": "markdown",
      "metadata": {
        "id": "view-in-github",
        "colab_type": "text"
      },
      "source": [
        "<a href=\"https://colab.research.google.com/github/yusufdalva/ML_implementations/blob/master/PyTorch_fundamentals/FashionMNIST_PyTorch.ipynb\" target=\"_parent\"><img src=\"https://colab.research.google.com/assets/colab-badge.svg\" alt=\"Open In Colab\"/></a>"
      ]
    },
    {
      "cell_type": "code",
      "execution_count": 1,
      "metadata": {
        "id": "3FdvXgDqNcNJ"
      },
      "outputs": [],
      "source": [
        "import torch\n",
        "from torch.utils.data import DataLoader\n",
        "from torch import nn, optim\n",
        "from torchvision import datasets, transforms"
      ]
    },
    {
      "cell_type": "code",
      "source": [
        "print(\"Using Pytorch {}\".format(torch.__version__))"
      ],
      "metadata": {
        "colab": {
          "base_uri": "https://localhost:8080/"
        },
        "id": "WPJxsRszOZ8P",
        "outputId": "7b769a9b-3c50-41ec-9447-0b955908184a"
      },
      "execution_count": 2,
      "outputs": [
        {
          "output_type": "stream",
          "name": "stdout",
          "text": [
            "Using Pytorch 1.10.0+cu111\n"
          ]
        }
      ]
    },
    {
      "cell_type": "code",
      "source": [
        "is_gpu_available = torch.cuda.is_available()\n",
        "print(\"Is GPU being used: {}\".format(is_gpu_available))\n",
        "if is_gpu_available:\n",
        "    print(\"There are {} GPU(s) available\".format(torch.cuda.device_count()))\n",
        "    device_id = torch.cuda.current_device()\n",
        "    device_name = torch.cuda.get_device_name(device_id)\n",
        "    print(\"Name of the current GPU: {}\".format(device_name))"
      ],
      "metadata": {
        "colab": {
          "base_uri": "https://localhost:8080/"
        },
        "id": "tGZ6dVS9O1LW",
        "outputId": "df063d6d-905b-4c8a-cff2-722f16de2663"
      },
      "execution_count": 3,
      "outputs": [
        {
          "output_type": "stream",
          "name": "stdout",
          "text": [
            "Is GPU being used: True\n",
            "There are 1 GPU(s) available\n",
            "Name of the current GPU: Tesla T4\n"
          ]
        }
      ]
    },
    {
      "cell_type": "code",
      "source": [
        "!nvidia-smi"
      ],
      "metadata": {
        "colab": {
          "base_uri": "https://localhost:8080/"
        },
        "id": "41fHEuvoPuf4",
        "outputId": "e04341a3-b5fa-4365-8d17-9f0157765926"
      },
      "execution_count": 4,
      "outputs": [
        {
          "output_type": "stream",
          "name": "stdout",
          "text": [
            "Sun Apr  3 18:36:27 2022       \n",
            "+-----------------------------------------------------------------------------+\n",
            "| NVIDIA-SMI 460.32.03    Driver Version: 460.32.03    CUDA Version: 11.2     |\n",
            "|-------------------------------+----------------------+----------------------+\n",
            "| GPU  Name        Persistence-M| Bus-Id        Disp.A | Volatile Uncorr. ECC |\n",
            "| Fan  Temp  Perf  Pwr:Usage/Cap|         Memory-Usage | GPU-Util  Compute M. |\n",
            "|                               |                      |               MIG M. |\n",
            "|===============================+======================+======================|\n",
            "|   0  Tesla T4            Off  | 00000000:00:04.0 Off |                    0 |\n",
            "| N/A   63C    P8    12W /  70W |      3MiB / 15109MiB |      0%      Default |\n",
            "|                               |                      |                  N/A |\n",
            "+-------------------------------+----------------------+----------------------+\n",
            "                                                                               \n",
            "+-----------------------------------------------------------------------------+\n",
            "| Processes:                                                                  |\n",
            "|  GPU   GI   CI        PID   Type   Process name                  GPU Memory |\n",
            "|        ID   ID                                                   Usage      |\n",
            "|=============================================================================|\n",
            "|  No running processes found                                                 |\n",
            "+-----------------------------------------------------------------------------+\n"
          ]
        }
      ]
    },
    {
      "cell_type": "code",
      "source": [
        "transform_data = transforms.Compose([transforms.ToTensor(), transforms.Normalize((0.5,), (0.5,))]) # The images are grayscale, we only normalize one channel\n",
        "\n",
        "train_dataset = datasets.FashionMNIST('./data', download=True, train=True, transform=transform_data)\n",
        "train_data_loader = DataLoader(train_dataset, batch_size=128, shuffle=True)\n",
        "\n",
        "test_dataset = datasets.FashionMNIST('./data', download=True, train=False, transform=transform_data)\n",
        "test_data_loader = DataLoader(test_dataset, batch_size=64, shuffle=True) # Batch size is different just to show that it can be loaded differently"
      ],
      "metadata": {
        "id": "Ww_YXRR-Q7kK"
      },
      "execution_count": 5,
      "outputs": []
    },
    {
      "cell_type": "code",
      "source": [
        "class FMNIST_Classifier(nn.Module):\n",
        "    def __init__(self, conv_channels):\n",
        "        super(FMNIST_Classifier, self).__init__()\n",
        "\n",
        "        assert len(conv_channels) == 2 # I will have 2 consecutive convultional blocks\n",
        "        self.conv_channels = conv_channels\n",
        "\n",
        "        self.conv_block_1 = nn.Sequential(\n",
        "            nn.Conv2d(in_channels=1, out_channels=self.conv_channels[0], kernel_size=3, padding=1),\n",
        "            nn.BatchNorm2d(self.conv_channels[0]),\n",
        "            nn.ReLU(),\n",
        "            nn.MaxPool2d(kernel_size=2, stride=2)\n",
        "        )\n",
        "\n",
        "        self.conv_block_2 = nn.Sequential(\n",
        "            nn.Conv2d(in_channels=self.conv_channels[0], out_channels=self.conv_channels[1], kernel_size=3, padding=1),\n",
        "            nn.BatchNorm2d(self.conv_channels[1]),\n",
        "            nn.ReLU(),\n",
        "            nn.MaxPool2d(kernel_size=2, stride=2)\n",
        "        )\n",
        "\n",
        "        output_size = (28 // 4) # Downsampled it 2 times\n",
        "        self.fc_1 = nn.Linear(in_features=self.conv_channels[1] * output_size * output_size, out_features=128)\n",
        "        self.fc_2 = nn.Linear(in_features=128, out_features=64)\n",
        "        self.fc_3 = nn.Linear(in_features=64, out_features=10) # Predicting probabilities for 10 class\n",
        "\n",
        "    def forward(self, x):\n",
        "        x = self.conv_block_1(x)\n",
        "        x = self.conv_block_2(x)\n",
        "        x = x.view(-1, self.conv_channels[1] * 7 * 7) # Flatten the tensor\n",
        "        x = self.fc_1(x)\n",
        "        x = self.fc_2(x)\n",
        "        x = self.fc_3(x)\n",
        "        return x\n"
      ],
      "metadata": {
        "id": "2UJ0v5VZQDAd"
      },
      "execution_count": 6,
      "outputs": []
    },
    {
      "cell_type": "code",
      "source": [
        "criterion = nn.CrossEntropyLoss()\n",
        "conv_channels = [32, 64]\n",
        "model = FMNIST_Classifier(conv_channels)\n",
        "if is_gpu_available:\n",
        "    model.cuda()"
      ],
      "metadata": {
        "id": "FL29mzeIXMmi"
      },
      "execution_count": 7,
      "outputs": []
    },
    {
      "cell_type": "code",
      "source": [
        "learning_rate = 1e-3\n",
        "optimizer = optim.SGD(model.parameters(), lr=learning_rate)"
      ],
      "metadata": {
        "id": "GRd_MDXUZ3Gq"
      },
      "execution_count": 8,
      "outputs": []
    },
    {
      "cell_type": "code",
      "source": [
        "from tqdm import tqdm\n",
        "# Training loop\n",
        "no_of_epochs = 20\n",
        "iter_losses = []\n",
        "epoch_losses = []\n",
        "for epoch in range(no_of_epochs):\n",
        "    running_loss = 0.0\n",
        "    print(\"Epoch: {}/{}\".format(epoch + 1, no_of_epochs))\n",
        "    for batch_data, batch_labels in tqdm(train_data_loader):\n",
        "        optimizer.zero_grad() # Setting the starting gradients as 0\n",
        "        batch_outputs = model(batch_data.cuda()) # Predict outputs\n",
        "        loss = criterion(batch_outputs.cuda(), batch_labels.cuda()) # Calculate the loss\n",
        "        loss.backward() # Calculate the gradients\n",
        "        optimizer.step() # Update the weights\n",
        "        iter_losses.append(loss.item())\n",
        "        running_loss += loss.item()\n",
        "    epoch_losses.append(running_loss / len(train_data_loader))\n",
        "    print(\"Loss for epoch: {}\".format(running_loss / len(train_data_loader)))\n",
        "print(\"Finished Training!\")\n"
      ],
      "metadata": {
        "colab": {
          "base_uri": "https://localhost:8080/"
        },
        "id": "Dj8_eJvoa6IW",
        "outputId": "b462fcd3-6498-4786-de1d-d34752951b04"
      },
      "execution_count": 9,
      "outputs": [
        {
          "output_type": "stream",
          "name": "stdout",
          "text": [
            "Epoch: 1/20\n"
          ]
        },
        {
          "output_type": "stream",
          "name": "stderr",
          "text": [
            "100%|██████████| 469/469 [00:15<00:00, 30.88it/s]\n"
          ]
        },
        {
          "output_type": "stream",
          "name": "stdout",
          "text": [
            "Loss for epoch: 1.4815982406073287\n",
            "Epoch: 2/20\n"
          ]
        },
        {
          "output_type": "stream",
          "name": "stderr",
          "text": [
            "100%|██████████| 469/469 [00:12<00:00, 37.43it/s]\n"
          ]
        },
        {
          "output_type": "stream",
          "name": "stdout",
          "text": [
            "Loss for epoch: 0.8183019900881151\n",
            "Epoch: 3/20\n"
          ]
        },
        {
          "output_type": "stream",
          "name": "stderr",
          "text": [
            "100%|██████████| 469/469 [00:12<00:00, 36.82it/s]\n"
          ]
        },
        {
          "output_type": "stream",
          "name": "stdout",
          "text": [
            "Loss for epoch: 0.6616835556050608\n",
            "Epoch: 4/20\n"
          ]
        },
        {
          "output_type": "stream",
          "name": "stderr",
          "text": [
            "100%|██████████| 469/469 [00:12<00:00, 37.48it/s]\n"
          ]
        },
        {
          "output_type": "stream",
          "name": "stdout",
          "text": [
            "Loss for epoch: 0.5911397022733302\n",
            "Epoch: 5/20\n"
          ]
        },
        {
          "output_type": "stream",
          "name": "stderr",
          "text": [
            "100%|██████████| 469/469 [00:13<00:00, 34.74it/s]\n"
          ]
        },
        {
          "output_type": "stream",
          "name": "stdout",
          "text": [
            "Loss for epoch: 0.5460640310859883\n",
            "Epoch: 6/20\n"
          ]
        },
        {
          "output_type": "stream",
          "name": "stderr",
          "text": [
            "100%|██████████| 469/469 [00:12<00:00, 36.50it/s]\n"
          ]
        },
        {
          "output_type": "stream",
          "name": "stdout",
          "text": [
            "Loss for epoch: 0.512151083775929\n",
            "Epoch: 7/20\n"
          ]
        },
        {
          "output_type": "stream",
          "name": "stderr",
          "text": [
            "100%|██████████| 469/469 [00:12<00:00, 36.98it/s]\n"
          ]
        },
        {
          "output_type": "stream",
          "name": "stdout",
          "text": [
            "Loss for epoch: 0.48511596751619757\n",
            "Epoch: 8/20\n"
          ]
        },
        {
          "output_type": "stream",
          "name": "stderr",
          "text": [
            "100%|██████████| 469/469 [00:12<00:00, 37.32it/s]\n"
          ]
        },
        {
          "output_type": "stream",
          "name": "stdout",
          "text": [
            "Loss for epoch: 0.4629186722896755\n",
            "Epoch: 9/20\n"
          ]
        },
        {
          "output_type": "stream",
          "name": "stderr",
          "text": [
            "100%|██████████| 469/469 [00:12<00:00, 37.39it/s]\n"
          ]
        },
        {
          "output_type": "stream",
          "name": "stdout",
          "text": [
            "Loss for epoch: 0.44410249673481433\n",
            "Epoch: 10/20\n"
          ]
        },
        {
          "output_type": "stream",
          "name": "stderr",
          "text": [
            "100%|██████████| 469/469 [00:12<00:00, 37.06it/s]\n"
          ]
        },
        {
          "output_type": "stream",
          "name": "stdout",
          "text": [
            "Loss for epoch: 0.4281279765593726\n",
            "Epoch: 11/20\n"
          ]
        },
        {
          "output_type": "stream",
          "name": "stderr",
          "text": [
            "100%|██████████| 469/469 [00:12<00:00, 37.07it/s]\n"
          ]
        },
        {
          "output_type": "stream",
          "name": "stdout",
          "text": [
            "Loss for epoch: 0.4140495738622222\n",
            "Epoch: 12/20\n"
          ]
        },
        {
          "output_type": "stream",
          "name": "stderr",
          "text": [
            "100%|██████████| 469/469 [00:12<00:00, 37.25it/s]\n"
          ]
        },
        {
          "output_type": "stream",
          "name": "stdout",
          "text": [
            "Loss for epoch: 0.4017450398028786\n",
            "Epoch: 13/20\n"
          ]
        },
        {
          "output_type": "stream",
          "name": "stderr",
          "text": [
            "100%|██████████| 469/469 [00:12<00:00, 37.05it/s]\n"
          ]
        },
        {
          "output_type": "stream",
          "name": "stdout",
          "text": [
            "Loss for epoch: 0.3905448902136227\n",
            "Epoch: 14/20\n"
          ]
        },
        {
          "output_type": "stream",
          "name": "stderr",
          "text": [
            "100%|██████████| 469/469 [00:12<00:00, 36.21it/s]\n"
          ]
        },
        {
          "output_type": "stream",
          "name": "stdout",
          "text": [
            "Loss for epoch: 0.3805307779929785\n",
            "Epoch: 15/20\n"
          ]
        },
        {
          "output_type": "stream",
          "name": "stderr",
          "text": [
            "100%|██████████| 469/469 [00:12<00:00, 37.45it/s]\n"
          ]
        },
        {
          "output_type": "stream",
          "name": "stdout",
          "text": [
            "Loss for epoch: 0.37146605106432046\n",
            "Epoch: 16/20\n"
          ]
        },
        {
          "output_type": "stream",
          "name": "stderr",
          "text": [
            "100%|██████████| 469/469 [00:12<00:00, 37.25it/s]\n"
          ]
        },
        {
          "output_type": "stream",
          "name": "stdout",
          "text": [
            "Loss for epoch: 0.36325885571523514\n",
            "Epoch: 17/20\n"
          ]
        },
        {
          "output_type": "stream",
          "name": "stderr",
          "text": [
            "100%|██████████| 469/469 [00:12<00:00, 37.12it/s]\n"
          ]
        },
        {
          "output_type": "stream",
          "name": "stdout",
          "text": [
            "Loss for epoch: 0.3557420047297915\n",
            "Epoch: 18/20\n"
          ]
        },
        {
          "output_type": "stream",
          "name": "stderr",
          "text": [
            "100%|██████████| 469/469 [00:12<00:00, 37.12it/s]\n"
          ]
        },
        {
          "output_type": "stream",
          "name": "stdout",
          "text": [
            "Loss for epoch: 0.3487204694862305\n",
            "Epoch: 19/20\n"
          ]
        },
        {
          "output_type": "stream",
          "name": "stderr",
          "text": [
            "100%|██████████| 469/469 [00:12<00:00, 36.81it/s]\n"
          ]
        },
        {
          "output_type": "stream",
          "name": "stdout",
          "text": [
            "Loss for epoch: 0.34252228004845986\n",
            "Epoch: 20/20\n"
          ]
        },
        {
          "output_type": "stream",
          "name": "stderr",
          "text": [
            "100%|██████████| 469/469 [00:12<00:00, 37.00it/s]"
          ]
        },
        {
          "output_type": "stream",
          "name": "stdout",
          "text": [
            "Loss for epoch: 0.33623334041028136\n",
            "Finished Training!\n"
          ]
        },
        {
          "output_type": "stream",
          "name": "stderr",
          "text": [
            "\n"
          ]
        }
      ]
    },
    {
      "cell_type": "code",
      "source": [
        "model.eval()\n",
        "correct_preds = 0\n",
        "total_preds = 0\n",
        "all_preds = torch.tensor([])\n",
        "all_labels = torch.tensor([])\n",
        "with torch.no_grad():\n",
        "    for batch_data, batch_labels in test_data_loader:\n",
        "        batch_data = batch_data.cuda()\n",
        "        batch_labels = batch_labels.cuda()\n",
        "        batch_outputs = model(batch_data)\n",
        "        # Max returns: (max_values, max_indices)\n",
        "        # We only need the indices to assess the predictions\n",
        "        _, pred_labels = torch.max(batch_outputs, dim=1)\n",
        "        total_preds += pred_labels.size(0)\n",
        "        correct_preds += (pred_labels == batch_labels).sum().item()\n",
        "        all_preds = torch.cat((all_preds, pred_labels.cpu()), dim=0)\n",
        "        all_labels = torch.cat((all_labels, batch_labels.cpu()), dim=0)\n",
        "    print(\"Accuracy: {}\".format(correct_preds / total_preds))"
      ],
      "metadata": {
        "colab": {
          "base_uri": "https://localhost:8080/"
        },
        "id": "neO_Zrlec7_i",
        "outputId": "f13a413f-7917-4ea4-c9b9-f46ed7dde3f7"
      },
      "execution_count": 15,
      "outputs": [
        {
          "output_type": "stream",
          "name": "stdout",
          "text": [
            "Accuracy: 0.8717\n"
          ]
        }
      ]
    },
    {
      "cell_type": "code",
      "source": [
        "confusion_matrix = torch.zeros(10, 10, dtype=torch.int64)\n",
        "for label_idx in range(len(all_labels)):\n",
        "    predicted = all_preds[label_idx].int()\n",
        "    real = all_labels[label_idx].int()\n",
        "    confusion_matrix[real, predicted] += 1"
      ],
      "metadata": {
        "id": "Cb0BVR2HjElT"
      },
      "execution_count": 16,
      "outputs": []
    },
    {
      "cell_type": "code",
      "source": [
        "import matplotlib.pyplot as plt\n",
        "import seaborn as sns\n",
        "fig, ax = plt.subplots()\n",
        "ax = sns.heatmap(confusion_matrix.numpy(), annot=True, fmt=\"d\")\n",
        "fig.show()"
      ],
      "metadata": {
        "colab": {
          "base_uri": "https://localhost:8080/",
          "height": 265
        },
        "id": "kvvJHcNJlxiL",
        "outputId": "25c63705-e9f4-4ddf-f0c4-b13f22dcdde7"
      },
      "execution_count": 17,
      "outputs": [
        {
          "output_type": "display_data",
          "data": {
            "text/plain": [
              "<Figure size 432x288 with 2 Axes>"
            ],
            "image/png": "[encoded data removed]"
          },
          "metadata": {
            "needs_background": "light"
          }
        }
      ]
    },
    {
      "cell_type": "code",
      "source": [
        "fig, ax = plt.subplots()\n",
        "ax.plot(range(len(iter_losses)), iter_losses)\n",
        "ax.set_xlabel(\"Iterations\")\n",
        "ax.set_ylabel(\"Loss\")\n",
        "ax.set_title(\"Loss vs. Iterations\")\n",
        "fig.show()"
      ],
      "metadata": {
        "colab": {
          "base_uri": "https://localhost:8080/",
          "height": 295
        },
        "id": "jH_bFW7qmTGm",
        "outputId": "9ef6b18a-cc6f-4ede-83fb-ecd52a681814"
      },
      "execution_count": 18,
      "outputs": [
        {
          "output_type": "display_data",
          "data": {
            "text/plain": [
              "<Figure size 432x288 with 1 Axes>"
            ],
            "image/png": "[encoded data removed]"
          },
          "metadata": {
            "needs_background": "light"
          }
        }
      ]
    },
    {
      "cell_type": "code",
      "source": [
        "fig, ax = plt.subplots()\n",
        "ax.plot(range(len(epoch_losses)), epoch_losses)\n",
        "ax.set_xlabel(\"Epoch\")\n",
        "ax.set_ylabel(\"Loss\")\n",
        "ax.set_title(\"Loss vs. Epoch\")\n",
        "fig.show()"
      ],
      "metadata": {
        "colab": {
          "base_uri": "https://localhost:8080/",
          "height": 295
        },
        "id": "REpx_8WJnvko",
        "outputId": "2aff56c5-4919-4b4f-e867-ba919c4a95c5"
      },
      "execution_count": 19,
      "outputs": [
        {
          "output_type": "display_data",
          "data": {
            "text/plain": [
              "<Figure size 432x288 with 1 Axes>"
            ],
            "image/png": "[encoded data removed]"
          },
          "metadata": {
            "needs_background": "light"
          }
        }
      ]
    },
    {
      "cell_type": "code",
      "source": [
        ""
      ],
      "metadata": {
        "id": "rjxQSFMNn2G_"
      },
      "execution_count": 14,
      "outputs": []
    }
  ]
}